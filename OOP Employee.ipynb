{
 "cells": [
  {
   "cell_type": "markdown",
   "metadata": {},
   "source": [
    "Python Lab\n",
    "======\n",
    "The company ABC wants to develop an employee management system. The company has the departments: Sales, Admin and IT. The designations are: executive and manager.\n",
    "\n",
    "An employee has the attributes: empid, name, dept, designation , joinDate, dateOfBirth, contactno, email, BasicSalary, commission, totalSalesAmount, medicalAllowance, and houserent.\n",
    "\n",
    "If the employee is in sales department there will be a commission. No other department has commission. The commission is based on the totalSalesAmount. Consider the chart below:"
   ]
  },
  {
   "cell_type": "code",
   "execution_count": 5,
   "metadata": {},
   "outputs": [
    {
     "name": "stdout",
     "output_type": "stream",
     "text": [
      "EmployeeId :  100 \n",
      "EmployeeName:  Zara \n",
      "Department :  Sales \n",
      "Designation:  SE \n",
      "BasicSalary :  1000 \n",
      "HouseRent:  500 \n",
      "Medical:  500\n"
     ]
    }
   ],
   "source": [
    "class Employee:\n",
    "    def __init__(self, EmployeeId, EmployeeName, Department, Designation, BasicSalary, HouseRent, Medical):\n",
    "        self.EmployeeId = EmployeeId\n",
    "        self.EmployeeName = EmployeeName\n",
    "        self.Department = Department\n",
    "        self.Designation = Designation\n",
    "        self.BasicSalary = BasicSalary\n",
    "        self.HouseRent = HouseRent\n",
    "        self.Medical = Medical\n",
    "        \n",
    "    def displayEmployee(self):\n",
    "        print(\"EmployeeId : \", self.EmployeeId,  \"\\nEmployeeName: \", self.EmployeeName,\n",
    "        \"\\nDepartment : \", self.Department,  \"\\nDesignation: \", self.Designation,\n",
    "        \"\\nBasicSalary : \", self.BasicSalary,  \"\\nHouseRent: \", self.HouseRent, \"\\nMedical: \", self.Medical)\n",
    "\n",
    "        \n",
    "emp1 = Employee(100,\"Zara\", \"Sales\",\"SE\",1000,500,500)\n",
    "emp1.displayEmployee()"
   ]
  },
  {
   "cell_type": "code",
   "execution_count": null,
   "metadata": {},
   "outputs": [],
   "source": []
  }
 ],
 "metadata": {
  "kernelspec": {
   "display_name": "Python 3",
   "language": "python",
   "name": "python3"
  },
  "language_info": {
   "codemirror_mode": {
    "name": "ipython",
    "version": 3
   },
   "file_extension": ".py",
   "mimetype": "text/x-python",
   "name": "python",
   "nbconvert_exporter": "python",
   "pygments_lexer": "ipython3",
   "version": "3.7.0"
  }
 },
 "nbformat": 4,
 "nbformat_minor": 2
}
