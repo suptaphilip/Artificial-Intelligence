{
 "cells": [
  {
   "cell_type": "code",
   "execution_count": 4,
   "metadata": {},
   "outputs": [
    {
     "name": "stdout",
     "output_type": "stream",
     "text": [
      "7.66969696969697\n"
     ]
    },
    {
     "data": {
      "image/png": "[encoded data removed]",
      "text/plain": [
       "<Figure size 432x288 with 1 Axes>"
      ]
     },
     "metadata": {
      "needs_background": "light"
     },
     "output_type": "display_data"
    }
   ],
   "source": [
    "import numpy as np \n",
    "import matplotlib.pyplot as plt\n",
    "\n",
    "\n",
    "# observations \n",
    "x = np.array([0, 1, 2, 3, 4, 5, 6, 7, 8, 9]) \n",
    "y = np.array([1, 3, 2, 5, 7, 8, 8, 9, 10, 12])\n",
    "\n",
    "\n",
    "# plotting the actual points as scatter plot \n",
    "plt.scatter(x, y, color = \"m\", marker = \"o\", s = 30)\n",
    "\n",
    "n = np.size(x) \n",
    "  \n",
    "# mean of x and y vector \n",
    "m_x, m_y = np.mean(x), np.mean(y) \n",
    "  \n",
    "# calculating cross-deviation and deviation about x \n",
    "SS_xy = np.sum(y*x) - n*m_y*m_x \n",
    "SS_xx = np.sum(x*x) - n*m_x*m_x \n",
    "  \n",
    "# calculating regression coefficients \n",
    "b_1 = SS_xy / SS_xx \n",
    "b_0 = m_y - b_1*m_x \n",
    "\n",
    "# predicted response vector \n",
    "y_pred = b_0 + b_1*x\n",
    "\n",
    "x_test = 5.5\n",
    "\n",
    "y_test = b_0 + b_1*x_test\n",
    "\n",
    "print(y_test)\n",
    "\n",
    "# plotting the regression line \n",
    "plt.plot(x, y_pred, color = \"g\") \n",
    "  \n",
    "# putting labels \n",
    "plt.xlabel('x') \n",
    "plt.ylabel('y') \n",
    "  \n",
    "# function to show plot \n",
    "plt.show()\n",
    "\n",
    "  "
   ]
  },
  {
   "cell_type": "code",
   "execution_count": null,
   "metadata": {},
   "outputs": [],
   "source": []
  }
 ],
 "metadata": {
  "kernelspec": {
   "display_name": "Python 3",
   "language": "python",
   "name": "python3"
  },
  "language_info": {
   "codemirror_mode": {
    "name": "ipython",
    "version": 3
   },
   "file_extension": ".py",
   "mimetype": "text/x-python",
   "name": "python",
   "nbconvert_exporter": "python",
   "pygments_lexer": "ipython3",
   "version": "3.7.0"
  }
 },
 "nbformat": 4,
 "nbformat_minor": 2
}
