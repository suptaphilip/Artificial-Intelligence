{
 "cells": [
  {
   "cell_type": "markdown",
   "metadata": {},
   "source": [
    "Python Student class\n",
    "======\n"
   ]
  },
  {
   "cell_type": "code",
   "execution_count": 1,
   "metadata": {},
   "outputs": [
    {
     "data": {
      "text/plain": [
       "('Supta Richard', 'Philip', 146, 3.5)"
      ]
     },
     "execution_count": 1,
     "metadata": {},
     "output_type": "execute_result"
    }
   ],
   "source": [
    "class Student:\n",
    "    def __init__(self, first_name, last_name, numCredits, gpa):\n",
    "        self.first_name = first_name\n",
    "        self.last_name = last_name\n",
    "        self.numCredits = numCredits\n",
    "        self.gpa = gpa\n",
    "\n",
    "    def getFirstname(self):\n",
    "        return self.first_name\n",
    "\n",
    "    def getLastname(self):\n",
    "        return self.last_name\n",
    "\n",
    "    def getNumCredits(self):\n",
    "        return self.numCredits\n",
    "\n",
    "    def getGpa(self):\n",
    "        return self.gpa\n",
    "\n",
    "    def setFirstname(self, first_name):\n",
    "        self.first_name = first\n",
    "\n",
    "    def setLastname(self, last_name):\n",
    "        self.last_name = last\n",
    "\n",
    "    def setNumcredits(self, numCredits):\n",
    "        self.NumCredits = credit\n",
    "\n",
    "    def setGpa(self, gpa):\n",
    "        self.gpa = gpa\n",
    "\n",
    "    def __str__(self):\n",
    "        return (self.first_name, self.last_name, self.numCredits, self.gpa)\n",
    "        \n",
    "        \n",
    "    \n",
    "        \n",
    "student1 = Student(\"Supta Richard\",\"Philip\",146,3.5)\n",
    "student1.__str__()"
   ]
  },
  {
   "cell_type": "code",
   "execution_count": null,
   "metadata": {},
   "outputs": [],
   "source": []
  }
 ],
 "metadata": {
  "kernelspec": {
   "display_name": "Python 3",
   "language": "python",
   "name": "python3"
  },
  "language_info": {
   "codemirror_mode": {
    "name": "ipython",
    "version": 3
   },
   "file_extension": ".py",
   "mimetype": "text/x-python",
   "name": "python",
   "nbconvert_exporter": "python",
   "pygments_lexer": "ipython3",
   "version": "3.7.0"
  }
 },
 "nbformat": 4,
 "nbformat_minor": 2
}
